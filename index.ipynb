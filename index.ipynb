{
 "cells": [
  {
   "cell_type": "markdown",
   "metadata": {},
   "source": [
    "# Properties of Dot Product - Lab"
   ]
  },
  {
   "cell_type": "markdown",
   "metadata": {},
   "source": [
    "## Introduction\n",
    "\n",
    "In this lab we shall look at some interesting properties of a Dot product type matrix multiplication. Understanding these properties will become useful as we move forward with machine learning advanced linear algebra. The lab will require you to calculate results to provide a proof for these properties.\n",
    "\n",
    "## Objectives\n",
    "You will be able to:\n",
    "* Understand and analytically explain Distributive, Commutative and Associative properties of dot product\n",
    "\n",
    "## Instructions\n",
    "\n",
    "* For each property, create suitably sized matrices with random data and prove the equations \n",
    "* Ensure that size/dimension assumptions are met while performing calculations (you'll see errors otherwise)\n",
    "* Calculate the LHS and RHS for all equations and show if they are equal or not"
   ]
  },
  {
   "cell_type": "markdown",
   "metadata": {},
   "source": [
    "## Distributive Property - Matrices multiplication is distributive\n",
    "### Prove that A.(B+C)=A.B+A.C"
   ]
  },
  {
   "cell_type": "code",
   "execution_count": 9,
   "metadata": {},
   "outputs": [
    {
     "name": "stdout",
     "output_type": "stream",
     "text": [
      "left hand side = [[ 93.  84.  96.]\n",
      " [145. 142. 164.]\n",
      " [128. 134. 156.]]\n",
      "right hand side = [[ 93.  84.  96.]\n",
      " [145. 142. 164.]\n",
      " [128. 134. 156.]]\n"
     ]
    }
   ],
   "source": [
    "# Your code here\n",
    "import numpy as np\n",
    "import random\n",
    "\n",
    "A = np.zeros((3,2))                        \n",
    "B = np.zeros((2,3))  \n",
    "C = np.zeros((2,3)) \n",
    "\n",
    "def fill(matrix):\n",
    "\n",
    "    for x in range(0, matrix.shape[0]):\n",
    "        for y in range(0, matrix.shape[1]):\n",
    "            matrix[x][y] = random.randrange(1, 10)\n",
    "    \n",
    "    return matrix\n",
    "\n",
    "A = fill(A)\n",
    "B = fill(B)\n",
    "C = fill(C)\n",
    "\n",
    "D = B + C\n",
    "LHS = A.dot(D)\n",
    "\n",
    "RHS = A.dot(B) + A.dot(C)\n",
    "\n",
    "print ('left hand side =', LHS)\n",
    "print ('right hand side =', RHS)"
   ]
  },
  {
   "cell_type": "markdown",
   "metadata": {},
   "source": [
    "## Associative Property - Matrices multiplication is associative\n",
    "### Prove that A.(B.C)=(A.B).C"
   ]
  },
  {
   "cell_type": "code",
   "execution_count": 28,
   "metadata": {},
   "outputs": [
    {
     "name": "stdout",
     "output_type": "stream",
     "text": [
      "left hand side = [[100]\n",
      " [ 85]\n",
      " [287]]\n",
      "right hand side = [[100]\n",
      " [ 85]\n",
      " [287]]\n"
     ]
    }
   ],
   "source": [
    "# Your code here \n",
    "\n",
    "B_C = B.dot(C)\n",
    "LHS = A.dot(B_C)\n",
    "\n",
    "A_B = A.dot(B)\n",
    "RHS = A_B.dot(C)\n",
    "\n",
    "print ('left hand side =', LHS)\n",
    "print ('right hand side =', RHS)"
   ]
  },
  {
   "cell_type": "markdown",
   "metadata": {},
   "source": [
    "## Commutative Property - Matrix multiplication is NOT commutative\n",
    "### Prove that for matrices, A.B ≠ B.A"
   ]
  },
  {
   "cell_type": "code",
   "execution_count": 18,
   "metadata": {},
   "outputs": [
    {
     "name": "stdout",
     "output_type": "stream",
     "text": [
      "left hand side = [[36. 21. 27.]\n",
      " [66. 37. 45.]\n",
      " [66. 36. 42.]]\n",
      "right hand side = [[63. 78.]\n",
      " [47. 52.]]\n"
     ]
    }
   ],
   "source": [
    "# Your code here \n",
    "LHS = A.dot(B)\n",
    "\n",
    "RHS = B.dot(A)\n",
    "\n",
    "print ('left hand side =', LHS)\n",
    "print ('right hand side =', RHS)"
   ]
  },
  {
   "cell_type": "markdown",
   "metadata": {},
   "source": [
    "## Commutative Property -  vector multiplication IS commutative\n",
    "### Prove that for vectors, x<sup>T</sup> . y = y<sup>T</sup> . x\n",
    "Note: superscipt<sup>T</sup> denotes the transpose we saw earlier"
   ]
  },
  {
   "cell_type": "code",
   "execution_count": 24,
   "metadata": {},
   "outputs": [
    {
     "name": "stdout",
     "output_type": "stream",
     "text": [
      "left hand side = 70\n",
      "right hand side = 70\n"
     ]
    }
   ],
   "source": [
    "# Your code here \n",
    "x = np.array([1,2,3,4])\n",
    "y = np.array([5,6,7,8])\n",
    "\n",
    "x_trans = np.transpose(x)\n",
    "y_trans = np.transpose(y)\n",
    "\n",
    "LHS = x_trans.dot(y)\n",
    "RHS = y_trans.dot(x)\n",
    "\n",
    "\n",
    "print ('left hand side =', LHS)\n",
    "print ('right hand side =', RHS)"
   ]
  },
  {
   "cell_type": "markdown",
   "metadata": {},
   "source": [
    "#### and finally \n",
    "## Simplification of the matrix product\n",
    "### Prove that  (A.B)<sup>T</sup> = B<sup>T</sup> . A<sup>T</sup>"
   ]
  },
  {
   "cell_type": "code",
   "execution_count": 21,
   "metadata": {},
   "outputs": [
    {
     "name": "stdout",
     "output_type": "stream",
     "text": [
      "left hand side = [[36. 66. 66.]\n",
      " [21. 37. 36.]\n",
      " [27. 45. 42.]]\n",
      "right hand side = [[36. 66. 66.]\n",
      " [21. 37. 36.]\n",
      " [27. 45. 42.]]\n"
     ]
    }
   ],
   "source": [
    "# Your code here \n",
    "\n",
    "A_B = A.dot(B)\n",
    "LHS = A_B.T\n",
    "\n",
    "B_trans = np.transpose(B)\n",
    "A_trans = np.transpose(A)\n",
    "RHS = B_trans.dot(A_trans)\n",
    "\n",
    "print ('left hand side =', LHS)\n",
    "print ('right hand side =', RHS)"
   ]
  },
  {
   "cell_type": "markdown",
   "metadata": {},
   "source": [
    "## Summary \n",
    "\n",
    "So now we have seen enough matrix algebra to help us solve a problem of linear equations as we saw earlier in this section. We shall see how to do this next. "
   ]
  }
 ],
 "metadata": {
  "kernelspec": {
   "display_name": "learn-env",
   "language": "python",
   "name": "learn-env"
  },
  "language_info": {
   "codemirror_mode": {
    "name": "ipython",
    "version": 3
   },
   "file_extension": ".py",
   "mimetype": "text/x-python",
   "name": "python",
   "nbconvert_exporter": "python",
   "pygments_lexer": "ipython3",
   "version": "3.6.6"
  }
 },
 "nbformat": 4,
 "nbformat_minor": 2
}
